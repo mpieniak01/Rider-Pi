{
 "cells": [
  {
   "cell_type": "code",
   "execution_count": 3,
   "id": "f72ab2bf-6d5c-421d-9732-89daa1e40bcc",
   "metadata": {},
   "outputs": [
    {
     "ename": "IndentationError",
     "evalue": "expected an indented block (3450096016.py, line 2)",
     "output_type": "error",
     "traceback": [
      "\u001b[0;36m  Cell \u001b[0;32mIn[3], line 2\u001b[0;36m\u001b[0m\n\u001b[0;31m    g_car.rider_balance_roll(value)\u001b[0m\n\u001b[0m    ^\u001b[0m\n\u001b[0;31mIndentationError\u001b[0m\u001b[0;31m:\u001b[0m expected an indented block\n"
     ]
    }
   ],
   "source": [
    "def set_balance(value):\n",
    "g_car.rider_balance_roll(value)\n",
    "​\n",
    "#Create a slider to enable self-stabilization and non-self-stabilization\n",
    "interact(set_balance, \\\n",
    "value=widgets.IntSlider(min=0,max=1,step=1,value=0));"
   ]
  },
  {
   "cell_type": "code",
   "execution_count": null,
   "id": "c6c7ad92-7d85-4237-9e65-2dcfbc0838e8",
   "metadata": {},
   "outputs": [],
   "source": []
  }
 ],
 "metadata": {
  "kernelspec": {
   "display_name": "Python 3 (ipykernel)",
   "language": "python",
   "name": "python3"
  },
  "language_info": {
   "codemirror_mode": {
    "name": "ipython",
    "version": 3
   },
   "file_extension": ".py",
   "mimetype": "text/x-python",
   "name": "python",
   "nbconvert_exporter": "python",
   "pygments_lexer": "ipython3",
   "version": "3.9.2"
  }
 },
 "nbformat": 4,
 "nbformat_minor": 5
}
